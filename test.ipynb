{
 "cells": [
  {
   "cell_type": "code",
   "execution_count": 1,
   "metadata": {},
   "outputs": [],
   "source": [
    "from Sensors.area_tank import Tank"
   ]
  },
  {
   "cell_type": "code",
   "execution_count": 2,
   "metadata": {},
   "outputs": [
    {
     "name": "stdout",
     "output_type": "stream",
     "text": [
      "Tank Data: {'ORP': 698.3797197762609, 'PH': 7.266050260232632, 'Salinity': 233.55072425727406, 'Water_Depth': 2.095280257564544, 'Turbidity': 0.04557810785132608, 'Temperature': 29.83868915848369, 'timestamp': 1737416270.149096}\n",
      "Tank Data: {'ORP': 665.919672217213, 'PH': 8.434766716166967, 'Salinity': 232.77930990783537, 'Water_Depth': 0.012254355319401, 'Turbidity': 0.01792815748906631, 'Temperature': 30.0, 'timestamp': 1737416270.149195}\n",
      "Tank Data: {'ORP': 675.084149303118, 'PH': 8.5, 'Salinity': 231.42241777927842, 'Water_Depth': 0.41016536772139023, 'Turbidity': 0, 'Temperature': 29.21499977453047, 'timestamp': 1737416270.149282}\n",
      "Tank Data: {'ORP': 700, 'PH': 8.043070865849241, 'Salinity': 230.11679354210585, 'Water_Depth': 0.4162371774751074, 'Turbidity': 0.03481934070599218, 'Temperature': 30.0, 'timestamp': 1737416270.1493142}\n",
      "Tank Data: {'ORP': 693.5132466706867, 'PH': 7.5735740017013, 'Salinity': 227.71092176946954, 'Water_Depth': 0.6091825879062349, 'Turbidity': 0, 'Temperature': 28.729153948313826, 'timestamp': 1737416270.14934}\n",
      "Tank Data: {'ORP': 669.163539826993, 'PH': 7.540065428801535, 'Salinity': 225.03100998789083, 'Water_Depth': 0.6404551949578547, 'Turbidity': 0, 'Temperature': 27.036029642101905, 'timestamp': 1737416270.149365}\n",
      "Tank Data: {'ORP': 700, 'PH': 6.296902424024734, 'Salinity': 221.9625175921583, 'Water_Depth': 0.7066238002704902, 'Turbidity': 0.06619731326530934, 'Temperature': 25.22030907381017, 'timestamp': 1737416270.14939}\n",
      "Tank Data: {'ORP': 700, 'PH': 6, 'Salinity': 222.3678647521171, 'Water_Depth': 0.6494928340459659, 'Turbidity': 0, 'Temperature': 25, 'timestamp': 1737416270.149413}\n",
      "Tank Data: {'ORP': 700, 'PH': 6.653112845644248, 'Salinity': 219.63501112940608, 'Water_Depth': 0.7420013395507369, 'Turbidity': 0, 'Temperature': 26.032060973424453, 'timestamp': 1737416270.149436}\n",
      "Tank Data: {'ORP': 690.7077698528702, 'PH': 6.905313340854692, 'Salinity': 213.97425499134957, 'Water_Depth': 1.0748361811707379, 'Turbidity': 0.07718744841692438, 'Temperature': 27.098960707907224, 'timestamp': 1737416270.149461}\n",
      "Tank Data: {'ORP': 678.2894917182057, 'PH': 7.481701004989206, 'Salinity': 214.09172608751106, 'Water_Depth': 1.0247531245419972, 'Turbidity': 0.14770956691316128, 'Temperature': 28.928899774283643, 'timestamp': 1737416270.1495109}\n",
      "Tank Data: {'ORP': 700, 'PH': 6.733110318650672, 'Salinity': 209.7573124266278, 'Water_Depth': 1.0522429023339477, 'Turbidity': 0.0333524369838226, 'Temperature': 30.0, 'timestamp': 1737416270.1495612}\n",
      "Tank Data: {'ORP': 688.1348480056209, 'PH': 6.799787549181417, 'Salinity': 202.9319844968803, 'Water_Depth': 1.296482921599073, 'Turbidity': 0.0734428617676777, 'Temperature': 30.0, 'timestamp': 1737416270.1496232}\n",
      "Tank Data: {'ORP': 667.7424257870438, 'PH': 6.8070301072532455, 'Salinity': 203.1757548367675, 'Water_Depth': 1.0465960371611898, 'Turbidity': 0.11103465177922332, 'Temperature': 28.67997589239281, 'timestamp': 1737416270.1496892}\n",
      "Tank Data: {'ORP': 650, 'PH': 6.673764441439878, 'Salinity': 196.92691071563618, 'Water_Depth': 1.4452760408268754, 'Turbidity': 0.03075274901909828, 'Temperature': 30.0, 'timestamp': 1737416270.149825}\n",
      "Tank Data: {'ORP': 654.4430608783002, 'PH': 6, 'Salinity': 188.91198666945184, 'Water_Depth': 1.753752856186365, 'Turbidity': 0.03413925232670467, 'Temperature': 30.0, 'timestamp': 1737416270.1498501}\n",
      "Tank Data: {'ORP': 697.233633851616, 'PH': 6, 'Salinity': 188.23019045901165, 'Water_Depth': 1.4965255827499142, 'Turbidity': 0.05874170999128796, 'Temperature': 29.965251508365316, 'timestamp': 1737416270.149871}\n",
      "Tank Data: {'ORP': 662.7192456126315, 'PH': 6, 'Salinity': 188.2396028431143, 'Water_Depth': 1.1102213466773172, 'Turbidity': 0.08550434436841833, 'Temperature': 28.62231552493249, 'timestamp': 1737416270.149895}\n",
      "Tank Data: {'ORP': 650, 'PH': 7.436082042993618, 'Salinity': 188.55707969745168, 'Water_Depth': 0.8792122502239894, 'Turbidity': 0.1654718444214542, 'Temperature': 27.68630118791328, 'timestamp': 1737416270.149917}\n",
      "Tank Data: {'ORP': 689.3425405369741, 'PH': 6.062317783132894, 'Salinity': 182.55985196904146, 'Water_Depth': 1.3343731116664344, 'Turbidity': 0, 'Temperature': 26.879832611715923, 'timestamp': 1737416270.149941}\n",
      "Tank Data: {'ORP': 688.8258246507089, 'PH': 6.231229312801884, 'Salinity': 174.25443005140662, 'Water_Depth': 1.6071488300502454, 'Turbidity': 0, 'Temperature': 26.741581906757567, 'timestamp': 1737416270.149964}\n",
      "Tank Data: {'ORP': 700, 'PH': 6, 'Salinity': 165.5587058337186, 'Water_Depth': 1.6576500864357464, 'Turbidity': 0.03484333489797029, 'Temperature': 26.77216995781524, 'timestamp': 1737416270.149987}\n",
      "Tank Data: {'ORP': 700, 'PH': 6, 'Salinity': 164.76110295649636, 'Water_Depth': 1.3955187232642363, 'Turbidity': 0, 'Temperature': 26.447546941143827, 'timestamp': 1737416270.1500092}\n",
      "Tank Data: {'ORP': 700, 'PH': 6, 'Salinity': 154.76775290735418, 'Water_Depth': 2.027112766925852, 'Turbidity': 0.07411476257789806, 'Temperature': 26.6940921409723, 'timestamp': 1737416270.1500318}\n",
      "Tank Data: {'ORP': 698.358263741381, 'PH': 6.118984636959025, 'Salinity': 154.02799822939397, 'Water_Depth': 1.7432408294135726, 'Turbidity': 0.0020910272405251368, 'Temperature': 25, 'timestamp': 1737416270.150053}\n",
      "Tank Data: {'ORP': 650, 'PH': 6, 'Salinity': 142.13955442872694, 'Water_Depth': 2.2775221162073596, 'Turbidity': 0.03358590684370804, 'Temperature': 25, 'timestamp': 1737416270.150076}\n",
      "Tank Data: {'ORP': 650, 'PH': 6, 'Salinity': 141.5401536057711, 'Water_Depth': 1.4886810067104692, 'Turbidity': 0.0337169999576551, 'Temperature': 25.557763775739737, 'timestamp': 1737416270.1500978}\n",
      "Tank Data: {'ORP': 650, 'PH': 6, 'Salinity': 134.29872887483288, 'Water_Depth': 1.6248861723956338, 'Turbidity': 0, 'Temperature': 25, 'timestamp': 1737416270.1502862}\n",
      "Tank Data: {'ORP': 650, 'PH': 7.950296942682893, 'Salinity': 135.16906944768007, 'Water_Depth': 1.5469427617792162, 'Turbidity': 0.07687566953882266, 'Temperature': 26.25366216900482, 'timestamp': 1737416270.150309}\n",
      "Tank Data: {'ORP': 681.1178642072615, 'PH': 7.69460536444275, 'Salinity': 126.50108981677329, 'Water_Depth': 1.6704480172612026, 'Turbidity': 0.005953631210125998, 'Temperature': 28.390584257604853, 'timestamp': 1737416270.150709}\n",
      "Tank Data: {'ORP': 676.3356162221858, 'PH': 8.5, 'Salinity': 126.79402167707677, 'Water_Depth': 1.37704924846461, 'Turbidity': 0, 'Temperature': 29.546230574583568, 'timestamp': 1737416270.15074}\n",
      "Tank Data: {'ORP': 650, 'PH': 8.5, 'Salinity': 116.30373027881133, 'Water_Depth': 1.9794289037539996, 'Turbidity': 0.05943753489777335, 'Temperature': 29.180949791816303, 'timestamp': 1737416270.150764}\n",
      "Tank Data: {'ORP': 650, 'PH': 8.5, 'Salinity': 115.98757404538698, 'Water_Depth': 1.765214347142919, 'Turbidity': 0.08299634888044721, 'Temperature': 28.842967361460165, 'timestamp': 1737416270.150784}\n",
      "Tank Data: {'ORP': 650, 'PH': 6.871960897971329, 'Salinity': 115.44441841500233, 'Water_Depth': 1.5752917169819354, 'Turbidity': 0.04044990856287799, 'Temperature': 28.309188623714597, 'timestamp': 1737416270.1508029}\n",
      "Tank Data: {'ORP': 664.197239145377, 'PH': 6.2171078553763275, 'Salinity': 115.69402848182916, 'Water_Depth': 1.456826429186045, 'Turbidity': 0.0827793435517661, 'Temperature': 30.0, 'timestamp': 1737416270.150822}\n",
      "Tank Data: {'ORP': 650, 'PH': 7.176392826370941, 'Salinity': 107.38839325368497, 'Water_Depth': 1.5304413307115439, 'Turbidity': 0, 'Temperature': 30.0, 'timestamp': 1737416270.150843}\n",
      "Tank Data: {'ORP': 672.7811298367561, 'PH': 6, 'Salinity': 97.02279534412672, 'Water_Depth': 1.9018925598395184, 'Turbidity': 0, 'Temperature': 30.0, 'timestamp': 1737416270.1508632}\n",
      "Tank Data: {'ORP': 650, 'PH': 7.21783792180174, 'Salinity': 86.70811752368071, 'Water_Depth': 1.9033731581306488, 'Turbidity': 0, 'Temperature': 30.0, 'timestamp': 1737416270.150903}\n",
      "Tank Data: {'ORP': 687.1743603327035, 'PH': 7.1053939373092, 'Salinity': 85.74997568508842, 'Water_Depth': 1.7360434154203812, 'Turbidity': 0, 'Temperature': 28.96911279091145, 'timestamp': 1737416270.150927}\n",
      "Tank Data: {'ORP': 680.3296607480233, 'PH': 7.797514508444802, 'Salinity': 74.05417628845194, 'Water_Depth': 2.362964505791578, 'Turbidity': 0.016484035977436574, 'Temperature': 28.973205746628505, 'timestamp': 1737416270.150948}\n",
      "Tank Data: {'ORP': 665.9285522423976, 'PH': 6.407853908128534, 'Salinity': 74.29348019529876, 'Water_Depth': 1.922812365516527, 'Turbidity': 0, 'Temperature': 29.72393124294234, 'timestamp': 1737416270.150969}\n",
      "Tank Data: {'ORP': 656.1641162254715, 'PH': 8.205762315567856, 'Salinity': 74.12830201477851, 'Water_Depth': 1.9125596158503368, 'Turbidity': 0.06218082986614373, 'Temperature': 28.494661614930827, 'timestamp': 1737416270.150997}\n",
      "Tank Data: {'ORP': 667.5352403040964, 'PH': 7.8925925013762885, 'Salinity': 73.64612399895431, 'Water_Depth': 1.6460802960683845, 'Turbidity': 0.09415417533905196, 'Temperature': 27.22568889288782, 'timestamp': 1737416270.151052}\n",
      "Tank Data: {'ORP': 700, 'PH': 8.5, 'Salinity': 72.72538725849175, 'Water_Depth': 1.2518013083041677, 'Turbidity': 0.17762860678084824, 'Temperature': 28.837466407021463, 'timestamp': 1737416270.151076}\n",
      "Tank Data: {'ORP': 685.1046914139133, 'PH': 7.482753345607946, 'Salinity': 66.09146442244685, 'Water_Depth': 1.2891805236341105, 'Turbidity': 0, 'Temperature': 28.624680181629305, 'timestamp': 1737416270.151099}\n",
      "Tank Data: {'ORP': 674.0580106513481, 'PH': 6.603765711825475, 'Salinity': 59.60772095445125, 'Water_Depth': 1.338196552687675, 'Turbidity': 0.011164275033330352, 'Temperature': 26.44759245085708, 'timestamp': 1737416270.1511412}\n",
      "Tank Data: {'ORP': 696.4923829643923, 'PH': 6.285242965667855, 'Salinity': 59.16269100729874, 'Water_Depth': 1.3036036698665394, 'Turbidity': 0.10806181487022494, 'Temperature': 27.377357107904146, 'timestamp': 1737416270.1511638}\n",
      "Tank Data: {'ORP': 687.447468434656, 'PH': 7.559851579029606, 'Salinity': 59.70595879004428, 'Water_Depth': 1.0872304531025292, 'Turbidity': 0.04201926191678332, 'Temperature': 29.192580070150697, 'timestamp': 1737416270.1511831}\n",
      "Tank Data: {'ORP': 661.2626585018036, 'PH': 8.5, 'Salinity': 60.57895420360895, 'Water_Depth': 0.9899925857916774, 'Turbidity': 0, 'Temperature': 28.758697330146404, 'timestamp': 1737416270.1512032}\n",
      "Tank Data: {'ORP': 676.1239723378291, 'PH': 8.398935618718788, 'Salinity': 55.92085222604773, 'Water_Depth': 1.034162206880223, 'Turbidity': 0, 'Temperature': 30.0, 'timestamp': 1737416270.1512241}\n"
     ]
    }
   ],
   "source": [
    "# Create a tank instance\n",
    "tank = Tank(\"Tank1\")\n",
    "\n",
    "# Simulate tank behavior\n",
    "for _ in range(50):\n",
    "    data = tank.generate_data()\n",
    "    print(f\"Tank Data: {data}\")"
   ]
  }
 ],
 "metadata": {
  "kernelspec": {
   "display_name": "iotVenv",
   "language": "python",
   "name": "python3"
  },
  "language_info": {
   "codemirror_mode": {
    "name": "ipython",
    "version": 3
   },
   "file_extension": ".py",
   "mimetype": "text/x-python",
   "name": "python",
   "nbconvert_exporter": "python",
   "pygments_lexer": "ipython3",
   "version": "3.13.0"
  }
 },
 "nbformat": 4,
 "nbformat_minor": 2
}
